{
 "cells": [
  {
   "cell_type": "code",
   "execution_count": 3,
   "id": "12632b82-0e4a-4c47-b8ee-90f318a6e757",
   "metadata": {},
   "outputs": [
    {
     "ename": "SyntaxError",
     "evalue": "invalid syntax (3072510094.py, line 12)",
     "output_type": "error",
     "traceback": [
      "\u001b[0;36m  Cell \u001b[0;32mIn[3], line 12\u001b[0;36m\u001b[0m\n\u001b[0;31m    Output:\u001b[0m\n\u001b[0m           ^\u001b[0m\n\u001b[0;31mSyntaxError\u001b[0m\u001b[0;31m:\u001b[0m invalid syntax\n"
     ]
    }
   ],
   "source": [
    "##Q1. Create a Pandas Series that contains the following data: 4, 8, 15, 16, 23, and 42. Then, print the series.\n",
    "#ans-\\\n",
    "#Here's how you can create a Pandas Series with the given data and print it:\n",
    "\n",
    "\n",
    "import pandas as pd\n",
    "\n",
    "data = [4, 8, 15, 16, 23, 42]\n",
    "series = pd.Series(data)\n",
    "\n",
    "print(series)\n",
    "Output:\n",
    "\n",
    "go\n",
    "Copy code\n",
    "0     4\n",
    "1     8\n",
    "2    15\n",
    "3    16\n",
    "4    23\n",
    "5    42\n",
    "dtype: int64\n",
    "The series contains the given data and is indexed from 0 to 5. The data type of the series is int64.\n",
    "\n",
    "\n",
    "\n",
    "\n"
   ]
  },
  {
   "cell_type": "code",
   "execution_count": null,
   "id": "50e289a0-d93f-41e2-96a7-6fb72c416c6a",
   "metadata": {},
   "outputs": [],
   "source": [
    "\n",
    "Q2. Create a variable of list type containing 10 elements in it, and apply pandas.Series function on the\n",
    "variable print it.\n",
    "ans-\n",
    "\n",
    "Here's how you can create a list of 10 elements, convert it into a Pandas Series, and print it:\n",
    "\n",
    "python\n",
    "Copy code\n",
    "import pandas as pd\n",
    "\n",
    "my_list = [2, 4, 6, 8, 10, 12, 14, 16, 18, 20]\n",
    "\n",
    "my_series = pd.Series(my_list)\n",
    "\n",
    "print(my_series)\n",
    "Output:\n",
    "\n",
    "go\n",
    "Copy code\n",
    "0     2\n",
    "1     4\n",
    "2     6\n",
    "3     8\n",
    "4    10\n",
    "5    12\n",
    "6    14\n",
    "7    16\n",
    "8    18\n",
    "9    20\n",
    "dtype: int64\n",
    "The pd.Series() function is used to convert the list into a Pandas Series. The resulting Series contains the same elements as the original list, and is indexed from 0 to 9. The data type of the Series is int64.\n",
    "\n",
    "\n",
    "\n",
    "\n"
   ]
  },
  {
   "cell_type": "code",
   "execution_count": null,
   "id": "d9d10fd9-56eb-4fa4-9578-aa900a31a625",
   "metadata": {},
   "outputs": [],
   "source": [
    "Q4. What is ‘DataFrame’ in pandas and how is it different from pandas.series? Explain with an example.\n",
    "ans-\n",
    "In Pandas, a DataFrame is a 2-dimensional labeled data structure with columns of potentially different types. It is like a spreadsheet or a SQL table, where data is organized in rows and columns. A Pandas Series, on the other hand, is a 1-dimensional labeled array that can hold data of any type.\n",
    "\n",
    "Here's an example to illustrate the difference between a Pandas DataFrame and a Pandas Series:\n",
    "\n",
    "python\n",
    "Copy code\n",
    "import pandas as pd\n",
    "\n",
    "# Create a list of dictionaries containing data\n",
    "data = [\n",
    "    {'Name': 'Alice', 'Age': 25, 'City': 'New York'},\n",
    "    {'Name': 'Bob', 'Age': 30, 'City': 'London'},\n",
    "    {'Name': 'Charlie', 'Age': 35, 'City': 'Paris'}\n",
    "]\n",
    "\n",
    "# Create a DataFrame from the list of dictionaries\n",
    "df = pd.DataFrame(data)\n",
    "\n",
    "# Create a Series from the 'Age' column of the DataFrame\n",
    "age_series = df['Age']\n",
    "\n",
    "# Print the DataFrame and the Series\n",
    "print(\"DataFrame:\\n\", df)\n",
    "print(\"\\nAge Series:\\n\", age_series)\n",
    "Output:\n",
    "\n",
    "yaml\n",
    "Copy code\n",
    "DataFrame:\n",
    "       Name  Age      City\n",
    "0    Alice   25  New York\n",
    "1      Bob   30    London\n",
    "2  Charlie   35     Paris\n",
    "\n",
    "Age Series:\n",
    " 0    25\n",
    "1    30\n",
    "2    35\n",
    "Name: Age, dtype: int64\n",
    "In this example, we first create a list of dictionaries containing some data. We then use this data to create a Pandas DataFrame using the pd.DataFrame() function. The resulting DataFrame has 3 rows and 3 columns ('Name', 'Age', and 'City'). Each column is a Pandas Series.\n",
    "\n",
    "We then create a new Pandas Series called age_series by selecting the 'Age' column of the DataFrame using the indexing operator ([]). The resulting Series contains only the 'Age' data from the original DataFrame.\n",
    "\n",
    "As you can see from the output, the DataFrame is a 2-dimensional labeled data structure with rows and columns, whereas the Series is a 1-dimensional labeled array containing only one column of data. The DataFrame provides a way to organize and manipulate data in a tabular format, while the Series provides a way to access and manipulate individual columns of data.\n",
    "\n",
    "\n",
    "\n",
    "\n",
    "Regenerate response\n"
   ]
  },
  {
   "cell_type": "code",
   "execution_count": null,
   "id": "9831ff8b-1042-40a1-9594-bdb644da70fd",
   "metadata": {},
   "outputs": [],
   "source": [
    "Q5. What are some common functions you can use to manipulate data in a Pandas DataFrame? Can\n",
    "you give an example of when you might use one of these functions?"
   ]
  },
  {
   "cell_type": "code",
   "execution_count": null,
   "id": "d663ab50-7763-4f84-8325-9d8c1cdbd8aa",
   "metadata": {},
   "outputs": [],
   "source": [
    "Pandas DataFrame provides a wide range of functions to manipulate data, including:\n",
    "\n",
    "head(): This function is used to return the top n rows of the DataFrame. For example, df.head(10) will return the first 10 rows of the DataFrame df.\n",
    "\n",
    "tail(): This function is used to return the bottom n rows of the DataFrame. For example, df.tail(10) will return the last 10 rows of the DataFrame df.\n",
    "\n",
    "describe(): This function is used to generate descriptive statistics of the DataFrame. For example, df.describe() will return the count, mean, standard deviation, minimum, 25th percentile, median, 75th percentile, and maximum values of all the numeric columns in the DataFrame df.\n",
    "\n",
    "drop(): This function is used to remove a column or row from the DataFrame. For example, df.drop('column_name', axis=1) will remove the column with the name 'column_name' from the DataFrame df.\n",
    "\n",
    "sort_values(): This function is used to sort the rows of the DataFrame based on one or more columns. For example, df.sort_values('column_name') will sort the DataFrame df in ascending order based on the values in the 'column_name' column.\n",
    "\n",
    "groupby(): This function is used to group the rows of the DataFrame based on one or more columns. For example, df.groupby('column_name').mean() will group the rows of the DataFrame df by the values in the 'column_name' column, and calculate the mean value of each group.\n",
    "\n",
    "pivot_table(): This function is used to create a pivot table based on the values in the DataFrame. For example, pd.pivot_table(df, values='value_column', index='index_column', columns='column_name') will create a pivot table from the DataFrame df, with the values in the 'value_column' column, the rows indexed by the 'index_column' column, and the columns defined by the 'column_name' column.\n",
    "\n",
    "One example of when you might use one of these functions is when you want to remove a column from the DataFrame. You can use the drop() function to remove the column. For instance, if you have a DataFrame df with a column named 'age', and you want to remove this column, you can use the following code:\n",
    "\n",
    "python\n",
    "Copy code\n",
    "df = df.drop('age', axis=1)\n",
    "This code will remove the 'age' column from the DataFrame df. The axis=1 argument specifies that we want to remove a column, not a row.\n",
    "\n",
    "\n",
    "\n",
    "\n",
    "Regenerate response\n"
   ]
  },
  {
   "cell_type": "code",
   "execution_count": null,
   "id": "67fe3407-c5a2-4a22-a75f-92d276db970b",
   "metadata": {},
   "outputs": [],
   "source": [
    "Q6. Which of the following is mutable in nature Series, DataFrame, Panel?\n",
    "ans-\\\n",
    "Series and DataFrame are mutable in nature, while Panel is immutable.\n",
    "\n",
    "In Pandas, a mutable object can be modified after it has been created. When a Series or DataFrame is modified, it may change the underlying data, index, or column labels. For example, you can add, remove or modify a row or column in a DataFrame.\n",
    "\n",
    "On the other hand, an immutable object cannot be modified after it has been created. Once a Panel has been created, you cannot modify it directly. Instead, you need to create a new Panel object with the updated values."
   ]
  },
  {
   "cell_type": "code",
   "execution_count": null,
   "id": "250921be-b0eb-4284-8269-6107a8f41dc0",
   "metadata": {},
   "outputs": [],
   "source": [
    "Q7. Create a DataFrame using multiple Series. Explain with an example.\n",
    "ans-\n"
   ]
  },
  {
   "cell_type": "code",
   "execution_count": null,
   "id": "8e1d7cb2-c5a6-469b-b1bb-0c4cba9dbbcd",
   "metadata": {},
   "outputs": [],
   "source": []
  },
  {
   "cell_type": "code",
   "execution_count": null,
   "id": "a3c7e824-ad1f-4df3-97df-66b3631411cc",
   "metadata": {},
   "outputs": [],
   "source": []
  },
  {
   "cell_type": "code",
   "execution_count": null,
   "id": "e7c41102-bd13-40cf-adb1-bb3a77996bf4",
   "metadata": {},
   "outputs": [],
   "source": []
  },
  {
   "cell_type": "code",
   "execution_count": null,
   "id": "7cdf4144-2e2a-4bfb-8da3-056d2b9c5bb7",
   "metadata": {},
   "outputs": [],
   "source": []
  },
  {
   "cell_type": "code",
   "execution_count": null,
   "id": "73751927-6918-45e2-9e0f-3f314819cc60",
   "metadata": {},
   "outputs": [],
   "source": []
  },
  {
   "cell_type": "code",
   "execution_count": null,
   "id": "48d1d5c0-2a13-415e-b265-00a5820888e3",
   "metadata": {},
   "outputs": [],
   "source": []
  }
 ],
 "metadata": {
  "kernelspec": {
   "display_name": "Python 3 (ipykernel)",
   "language": "python",
   "name": "python3"
  },
  "language_info": {
   "codemirror_mode": {
    "name": "ipython",
    "version": 3
   },
   "file_extension": ".py",
   "mimetype": "text/x-python",
   "name": "python",
   "nbconvert_exporter": "python",
   "pygments_lexer": "ipython3",
   "version": "3.10.8"
  }
 },
 "nbformat": 4,
 "nbformat_minor": 5
}
